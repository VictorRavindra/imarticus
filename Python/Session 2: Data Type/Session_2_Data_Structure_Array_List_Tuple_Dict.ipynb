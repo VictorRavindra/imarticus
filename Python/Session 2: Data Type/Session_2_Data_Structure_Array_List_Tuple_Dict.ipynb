{
  "nbformat": 4,
  "nbformat_minor": 0,
  "metadata": {
    "kernelspec": {
      "display_name": "Python 3",
      "language": "python",
      "name": "python3"
    },
    "language_info": {
      "codemirror_mode": {
        "name": "ipython",
        "version": 3
      },
      "file_extension": ".py",
      "mimetype": "text/x-python",
      "name": "python",
      "nbconvert_exporter": "python",
      "pygments_lexer": "ipython3",
      "version": "3.7.1"
    },
    "colab": {
      "name": "Session_2 DS.ipynb",
      "provenance": []
    }
  },
  "cells": [
    {
      "cell_type": "markdown",
      "metadata": {
        "id": "7o80jx6-cOnz",
        "colab_type": "text"
      },
      "source": [
        "#### Arrays in python"
      ]
    },
    {
      "cell_type": "markdown",
      "metadata": {
        "id": "kI9fdbVDcOnx",
        "colab_type": "text"
      },
      "source": [
        "### Data Structures in python\n",
        "Data structures stores a set of values."
      ]
    },
    {
      "cell_type": "code",
      "metadata": {
        "id": "10J_HhY9PSsm",
        "colab_type": "code",
        "colab": {}
      },
      "source": [
        ""
      ],
      "execution_count": 0,
      "outputs": []
    },
    {
      "cell_type": "markdown",
      "metadata": {
        "id": "knXrFAWJcOn0",
        "colab_type": "text"
      },
      "source": [
        "Array consists of set of elements of the same type. Array is mutable that means we can change the elements inside the array or add or remove elements. Each item stored in an array is called an element and each location of an element in an array has a numerical index, which is used to identify the element. Index in array start from 0. In order to create array we use python array module. Arrays are generally defined in []."
      ]
    },
    {
      "cell_type": "code",
      "metadata": {
        "id": "9nGBux4WcOn2",
        "colab_type": "code",
        "outputId": "5464fef3-565f-49c0-c9bf-4421e4cad3e0",
        "colab": {
          "base_uri": "https://localhost:8080/",
          "height": 34
        }
      },
      "source": [
        "import array\n",
        "from array import *\n",
        "\n",
        "#to create an array we use :\n",
        "#array_name = array('typecode','initialisation') for eg:\n",
        "arr_ = array('b',[10,20,30,40,50,60])\n",
        "# the type code specifies the type of the array that we have created, 'b' represents integer type of the array.\n",
        "(arr_)"
      ],
      "execution_count": 0,
      "outputs": [
        {
          "output_type": "execute_result",
          "data": {
            "text/plain": [
              "array('b', [10, 20, 30, 40, 50, 60])"
            ]
          },
          "metadata": {
            "tags": []
          },
          "execution_count": 1
        }
      ]
    },
    {
      "cell_type": "code",
      "metadata": {
        "id": "yH8sZq3ydVSK",
        "colab_type": "code",
        "outputId": "2fd4481e-5ef3-4184-e88a-68df9d85b67f",
        "colab": {
          "base_uri": "https://localhost:8080/",
          "height": 34
        }
      },
      "source": [
        "type(arr_)"
      ],
      "execution_count": 0,
      "outputs": [
        {
          "output_type": "execute_result",
          "data": {
            "text/plain": [
              "array.array"
            ]
          },
          "metadata": {
            "tags": []
          },
          "execution_count": 2
        }
      ]
    },
    {
      "cell_type": "markdown",
      "metadata": {
        "id": "n5HnncbQcOn9",
        "colab_type": "text"
      },
      "source": [
        "#### Operations on Array"
      ]
    },
    {
      "cell_type": "code",
      "metadata": {
        "id": "KDSxnKiHcOn_",
        "colab_type": "code",
        "outputId": "d2e8029f-cdc2-47e1-9fb3-73af1638d99e",
        "colab": {
          "base_uri": "https://localhost:8080/",
          "height": 34
        }
      },
      "source": [
        "arr_[3] #to access an element of the array we use array name and square brackets and pass the index number of the element\n"
      ],
      "execution_count": 0,
      "outputs": [
        {
          "output_type": "execute_result",
          "data": {
            "text/plain": [
              "40"
            ]
          },
          "metadata": {
            "tags": []
          },
          "execution_count": 3
        }
      ]
    },
    {
      "cell_type": "code",
      "metadata": {
        "id": "pVhyNB_UcOoE",
        "colab_type": "code",
        "outputId": "6b47df8e-0554-41c2-de28-9cee03ec5274",
        "colab": {
          "base_uri": "https://localhost:8080/",
          "height": 35
        }
      },
      "source": [
        "arr_.insert(2,100) #to insert an element in array we pass the index and the element that we have to insert.\n",
        "arr_"
      ],
      "execution_count": 0,
      "outputs": [
        {
          "output_type": "execute_result",
          "data": {
            "text/plain": [
              "array('b', [10, 20, 100, 30, 40, 50, 60])"
            ]
          },
          "metadata": {
            "tags": []
          },
          "execution_count": 7
        }
      ]
    },
    {
      "cell_type": "code",
      "metadata": {
        "id": "kahdyYKVcOoJ",
        "colab_type": "code",
        "outputId": "125b0335-5ac0-44cc-c6c0-ac0fdb65305e",
        "colab": {}
      },
      "source": [
        "arr_.index(50) #In order to search for an element inside an array we use index method and pass the element that you want to search"
      ],
      "execution_count": 0,
      "outputs": [
        {
          "output_type": "execute_result",
          "data": {
            "text/plain": [
              "5"
            ]
          },
          "metadata": {
            "tags": []
          },
          "execution_count": 17
        }
      ]
    },
    {
      "cell_type": "code",
      "metadata": {
        "id": "E_7RXHhFcOoP",
        "colab_type": "code",
        "outputId": "0bebc8a8-265c-461a-9b8f-a6cd9de63ac1",
        "colab": {}
      },
      "source": [
        "arr_[5]=120 #In order to update any existing element we pass the index the element that has to updated and the new value\n",
        "arr_"
      ],
      "execution_count": 0,
      "outputs": [
        {
          "output_type": "execute_result",
          "data": {
            "text/plain": [
              "array('b', [10, 20, 100, 30, 40, 120, 60])"
            ]
          },
          "metadata": {
            "tags": []
          },
          "execution_count": 19
        }
      ]
    },
    {
      "cell_type": "code",
      "metadata": {
        "id": "3_-BC9LAcOoU",
        "colab_type": "code",
        "outputId": "7e9f6036-3e00-4c58-faf4-75f0d91b752b",
        "colab": {}
      },
      "source": [
        "arr_.append(125) # append() inserts the element towards the last of the array\n",
        "arr_"
      ],
      "execution_count": 0,
      "outputs": [
        {
          "output_type": "execute_result",
          "data": {
            "text/plain": [
              "array('b', [10, 20, 100, 30, 40, 120, 60, 125])"
            ]
          },
          "metadata": {
            "tags": []
          },
          "execution_count": 20
        }
      ]
    },
    {
      "cell_type": "code",
      "metadata": {
        "id": "HgXG89IDcOoZ",
        "colab_type": "code",
        "outputId": "a7187092-d817-495f-f8f3-e7d94365d185",
        "colab": {}
      },
      "source": [
        "arr_.count(100) #return the count i.e, number of times the element has appeared"
      ],
      "execution_count": 0,
      "outputs": [
        {
          "output_type": "execute_result",
          "data": {
            "text/plain": [
              "1"
            ]
          },
          "metadata": {
            "tags": []
          },
          "execution_count": 22
        }
      ]
    },
    {
      "cell_type": "code",
      "metadata": {
        "id": "QquDS5CxcOod",
        "colab_type": "code",
        "outputId": "e55cdc5b-c875-44d4-de52-cb2b73b0e080",
        "colab": {
          "base_uri": "https://localhost:8080/",
          "height": 67
        }
      },
      "source": [
        "#Concatenation and extending array\n",
        "#CONCATENATION\n",
        "#lets create one more array\n",
        "Arr_ = array('b',[70,80,90])\n",
        "concat_ = arr_ + Arr_\n",
        "print (arr_)\n",
        "print (Arr_)\n",
        "concat_ #it includes elements of both the arrays and stores it in concat_, but didnt changed the actual arrays arr_ and Arr_\n"
      ],
      "execution_count": 0,
      "outputs": [
        {
          "output_type": "stream",
          "text": [
            "array('b', [10, 20, 30, 40, 50, 60])\n",
            "array('b', [70, 80, 90])\n"
          ],
          "name": "stdout"
        },
        {
          "output_type": "execute_result",
          "data": {
            "text/plain": [
              "array('b', [10, 20, 30, 40, 50, 60, 70, 80, 90])"
            ]
          },
          "metadata": {
            "tags": []
          },
          "execution_count": 4
        }
      ]
    },
    {
      "cell_type": "code",
      "metadata": {
        "id": "JN2xWl7rcOoj",
        "colab_type": "code",
        "outputId": "210c6d0c-8a0c-41fe-cd7b-788849aaa73b",
        "colab": {
          "base_uri": "https://localhost:8080/",
          "height": 50
        }
      },
      "source": [
        "#EXTEND:\n",
        "#with extend command it changes one of the arrays as,\n",
        "Arr_.extend(arr_)\n",
        "print (arr_)\n",
        "print (Arr_)"
      ],
      "execution_count": 0,
      "outputs": [
        {
          "output_type": "stream",
          "text": [
            "array('b', [10, 20, 30, 40, 50, 60])\n",
            "array('b', [70, 80, 90, 10, 20, 30, 40, 50, 60])\n"
          ],
          "name": "stdout"
        }
      ]
    },
    {
      "cell_type": "code",
      "metadata": {
        "id": "sI4y89bqOgpt",
        "colab_type": "code",
        "outputId": "3e2831cf-ffb1-4d0d-cb03-3a14554530f4",
        "colab": {
          "base_uri": "https://localhost:8080/",
          "height": 35
        }
      },
      "source": [
        "arr_"
      ],
      "execution_count": 0,
      "outputs": [
        {
          "output_type": "execute_result",
          "data": {
            "text/plain": [
              "array('b', [10, 20, 30, 40, 50])"
            ]
          },
          "metadata": {
            "tags": []
          },
          "execution_count": 13
        }
      ]
    },
    {
      "cell_type": "code",
      "metadata": {
        "id": "MO_fddWccOop",
        "colab_type": "code",
        "outputId": "24993e96-8789-4f50-8282-f077addc6a51",
        "colab": {
          "base_uri": "https://localhost:8080/",
          "height": 35
        }
      },
      "source": [
        "#pop: removes the element whose index is passed as a parameter, if no index is passed it removes the last element\n",
        "arr_.pop()"
      ],
      "execution_count": 0,
      "outputs": [
        {
          "output_type": "execute_result",
          "data": {
            "text/plain": [
              "100"
            ]
          },
          "metadata": {
            "tags": []
          },
          "execution_count": 11
        }
      ]
    },
    {
      "cell_type": "code",
      "metadata": {
        "id": "4_BckM5tcOot",
        "colab_type": "code",
        "outputId": "d5b1aa7e-8a16-413d-daba-ddfb374ff4fb",
        "colab": {
          "base_uri": "https://localhost:8080/",
          "height": 35
        }
      },
      "source": [
        "arr_.remove(10)#removes the element whose value is passed as a parameter\n",
        "arr_"
      ],
      "execution_count": 0,
      "outputs": [
        {
          "output_type": "execute_result",
          "data": {
            "text/plain": [
              "array('b', [20, 30, 40, 50])"
            ]
          },
          "metadata": {
            "tags": []
          },
          "execution_count": 14
        }
      ]
    },
    {
      "cell_type": "code",
      "metadata": {
        "id": "bAivljb4cOoy",
        "colab_type": "code",
        "colab": {}
      },
      "source": [
        "del(arr_)#to delete the array"
      ],
      "execution_count": 0,
      "outputs": []
    },
    {
      "cell_type": "code",
      "metadata": {
        "id": "vi-DpfgXPfoC",
        "colab_type": "code",
        "outputId": "08d02b20-efce-4ae1-cf30-bf8c5e27e518",
        "colab": {
          "base_uri": "https://localhost:8080/",
          "height": 171
        }
      },
      "source": [
        "arr_"
      ],
      "execution_count": 0,
      "outputs": [
        {
          "output_type": "error",
          "ename": "NameError",
          "evalue": "ignored",
          "traceback": [
            "\u001b[0;31m---------------------------------------------------------------------------\u001b[0m",
            "\u001b[0;31mNameError\u001b[0m                                 Traceback (most recent call last)",
            "\u001b[0;32m<ipython-input-16-5c911150f12e>\u001b[0m in \u001b[0;36m<module>\u001b[0;34m()\u001b[0m\n\u001b[0;32m----> 1\u001b[0;31m \u001b[0marr_\u001b[0m\u001b[0;34m\u001b[0m\u001b[0;34m\u001b[0m\u001b[0m\n\u001b[0m",
            "\u001b[0;31mNameError\u001b[0m: name 'arr_' is not defined"
          ]
        }
      ]
    },
    {
      "cell_type": "markdown",
      "metadata": {
        "id": "WEH2ERq5cOo2",
        "colab_type": "text"
      },
      "source": [
        "#### Lists:"
      ]
    },
    {
      "cell_type": "markdown",
      "metadata": {
        "id": "hn9TiKQIcOo3",
        "colab_type": "text"
      },
      "source": [
        "Lists consists of set of elements of the multiple type. Lists is mutable that means we can change the elements inside the lists or add or remove elements. Each item stored in list is called an element and each location of an element in list has a numerical index, which is used to identify the element. Index in list start from 0. List are generaly defined in []."
      ]
    },
    {
      "cell_type": "code",
      "metadata": {
        "id": "ER-bFglAcOo5",
        "colab_type": "code",
        "outputId": "5edbc3a2-1d6c-40f7-9ea9-a0bd0fb727f4",
        "colab": {
          "base_uri": "https://localhost:8080/",
          "height": 34
        }
      },
      "source": [
        "lis_1 = ['abc','xyz','pqr',1,2,3,4,5]\n",
        "lis_2= [30,12,70,50]\n",
        "type(lis_1)"
      ],
      "execution_count": 0,
      "outputs": [
        {
          "output_type": "execute_result",
          "data": {
            "text/plain": [
              "list"
            ]
          },
          "metadata": {
            "tags": []
          },
          "execution_count": 2
        }
      ]
    },
    {
      "cell_type": "markdown",
      "metadata": {
        "id": "8YI12EYgcOo9",
        "colab_type": "text"
      },
      "source": [
        "#### Operation on lists"
      ]
    },
    {
      "cell_type": "code",
      "metadata": {
        "id": "486NotAgDftU",
        "colab_type": "code",
        "outputId": "15c97b33-1ca3-4cee-bc71-6b7947684d48",
        "colab": {
          "base_uri": "https://localhost:8080/",
          "height": 34
        }
      },
      "source": [
        "lis_1.append(10) #append adds the element at the last of the list\n",
        "lis_1"
      ],
      "execution_count": 0,
      "outputs": [
        {
          "output_type": "execute_result",
          "data": {
            "text/plain": [
              "['abc', 'xyz', 'pqr', 1, 2, 3, 4, 5, 10]"
            ]
          },
          "metadata": {
            "tags": []
          },
          "execution_count": 3
        }
      ]
    },
    {
      "cell_type": "code",
      "metadata": {
        "id": "baUPlfBSDsP6",
        "colab_type": "code",
        "outputId": "7d548cb1-5c82-442c-ee1d-202258feaf23",
        "colab": {
          "base_uri": "https://localhost:8080/",
          "height": 34
        }
      },
      "source": [
        "lis_1.count(10) #returns the number of appearances of the given element"
      ],
      "execution_count": 0,
      "outputs": [
        {
          "output_type": "execute_result",
          "data": {
            "text/plain": [
              "1"
            ]
          },
          "metadata": {
            "tags": []
          },
          "execution_count": 4
        }
      ]
    },
    {
      "cell_type": "code",
      "metadata": {
        "id": "oRVlCfF3DzWV",
        "colab_type": "code",
        "colab": {}
      },
      "source": [
        "lis_1.extend(lis_2)"
      ],
      "execution_count": 0,
      "outputs": []
    },
    {
      "cell_type": "code",
      "metadata": {
        "id": "1ljhJSP-D7nM",
        "colab_type": "code",
        "outputId": "a02e4c8c-ec84-425d-b3f6-86a381cf1adf",
        "colab": {
          "base_uri": "https://localhost:8080/",
          "height": 34
        }
      },
      "source": [
        "lis_1"
      ],
      "execution_count": 0,
      "outputs": [
        {
          "output_type": "execute_result",
          "data": {
            "text/plain": [
              "['abc', 'xyz', 'pqr', 1, 2, 3, 4, 5, 10, 30, 12, 70, 50]"
            ]
          },
          "metadata": {
            "tags": []
          },
          "execution_count": 6
        }
      ]
    },
    {
      "cell_type": "code",
      "metadata": {
        "id": "xuImHjV7EA8r",
        "colab_type": "code",
        "outputId": "e45237c8-b464-4f96-a492-15318eb5835f",
        "colab": {
          "base_uri": "https://localhost:8080/",
          "height": 34
        }
      },
      "source": [
        "lis_1.insert(5,[20,30])\n",
        "lis_1"
      ],
      "execution_count": 0,
      "outputs": [
        {
          "output_type": "execute_result",
          "data": {
            "text/plain": [
              "['abc', 'xyz', 'pqr', 1, 2, [20, 30], 3, 4, 5, 10, 30, 12, 70, 50]"
            ]
          },
          "metadata": {
            "tags": []
          },
          "execution_count": 7
        }
      ]
    },
    {
      "cell_type": "code",
      "metadata": {
        "id": "kS6mY9VjIOPg",
        "colab_type": "code",
        "outputId": "908cc786-0891-47d5-f427-c58ccbc4c982",
        "colab": {
          "base_uri": "https://localhost:8080/",
          "height": 34
        }
      },
      "source": [
        "lis_2"
      ],
      "execution_count": 0,
      "outputs": [
        {
          "output_type": "execute_result",
          "data": {
            "text/plain": [
              "[30, 12, 70, 50]"
            ]
          },
          "metadata": {
            "tags": []
          },
          "execution_count": 18
        }
      ]
    },
    {
      "cell_type": "code",
      "metadata": {
        "id": "roq4LhyVEbKT",
        "colab_type": "code",
        "outputId": "db0fe692-e708-4392-f44f-e1c72d5d259e",
        "colab": {
          "base_uri": "https://localhost:8080/",
          "height": 34
        }
      },
      "source": [
        "#lis_2.pop()\n",
        "lis_2"
      ],
      "execution_count": 0,
      "outputs": [
        {
          "output_type": "execute_result",
          "data": {
            "text/plain": [
              "[]"
            ]
          },
          "metadata": {
            "tags": []
          },
          "execution_count": 26
        }
      ]
    },
    {
      "cell_type": "code",
      "metadata": {
        "id": "T8k6sCCzEqr5",
        "colab_type": "code",
        "colab": {}
      },
      "source": [
        "lis_2.remove(30)"
      ],
      "execution_count": 0,
      "outputs": []
    },
    {
      "cell_type": "code",
      "metadata": {
        "id": "yFlARg3NEz0x",
        "colab_type": "code",
        "outputId": "f12d5d2e-823e-4f1e-97b3-83da88eef043",
        "colab": {
          "base_uri": "https://localhost:8080/",
          "height": 34
        }
      },
      "source": [
        "lis_2"
      ],
      "execution_count": 0,
      "outputs": [
        {
          "output_type": "execute_result",
          "data": {
            "text/plain": [
              "[12, 70, 50]"
            ]
          },
          "metadata": {
            "tags": []
          },
          "execution_count": 9
        }
      ]
    },
    {
      "cell_type": "code",
      "metadata": {
        "id": "zT8eB54Qgdxv",
        "colab_type": "code",
        "colab": {}
      },
      "source": [
        "lis_2.clear()"
      ],
      "execution_count": 0,
      "outputs": []
    },
    {
      "cell_type": "code",
      "metadata": {
        "id": "2K4tvVpugq6C",
        "colab_type": "code",
        "outputId": "14299a73-6cc7-4d20-b4ba-ccd5bf341015",
        "colab": {
          "base_uri": "https://localhost:8080/",
          "height": 34
        }
      },
      "source": [
        "lis_2"
      ],
      "execution_count": 0,
      "outputs": [
        {
          "output_type": "execute_result",
          "data": {
            "text/plain": [
              "[]"
            ]
          },
          "metadata": {
            "tags": []
          },
          "execution_count": 12
        }
      ]
    },
    {
      "cell_type": "code",
      "metadata": {
        "id": "GjPfdj2zFN9T",
        "colab_type": "code",
        "colab": {}
      },
      "source": [
        "del lis_1"
      ],
      "execution_count": 0,
      "outputs": []
    },
    {
      "cell_type": "markdown",
      "metadata": {
        "id": "JEyrlzPyhEKE",
        "colab_type": "text"
      },
      "source": [
        ""
      ]
    },
    {
      "cell_type": "code",
      "metadata": {
        "id": "1NSz3mvEFQ13",
        "colab_type": "code",
        "outputId": "765b0018-b45e-4d20-b13d-f26c3a442b0b",
        "colab": {
          "base_uri": "https://localhost:8080/",
          "height": 162
        }
      },
      "source": [
        "lis_1"
      ],
      "execution_count": 0,
      "outputs": [
        {
          "output_type": "error",
          "ename": "NameError",
          "evalue": "ignored",
          "traceback": [
            "\u001b[0;31m---------------------------------------------------------------------------\u001b[0m",
            "\u001b[0;31mNameError\u001b[0m                                 Traceback (most recent call last)",
            "\u001b[0;32m<ipython-input-14-d9459cfac064>\u001b[0m in \u001b[0;36m<module>\u001b[0;34m()\u001b[0m\n\u001b[0;32m----> 1\u001b[0;31m \u001b[0mlis_1\u001b[0m\u001b[0;34m\u001b[0m\u001b[0;34m\u001b[0m\u001b[0m\n\u001b[0m",
            "\u001b[0;31mNameError\u001b[0m: name 'lis_1' is not defined"
          ]
        }
      ]
    },
    {
      "cell_type": "markdown",
      "metadata": {
        "id": "bz8ns3dmcOo-",
        "colab_type": "text"
      },
      "source": [
        "Lists has the same operations as an array"
      ]
    },
    {
      "cell_type": "code",
      "metadata": {
        "id": "aw5qsi5kcOpA",
        "colab_type": "code",
        "outputId": "7e8c1a14-1219-41ab-c225-3079292921ad",
        "colab": {
          "base_uri": "https://localhost:8080/",
          "height": 54
        }
      },
      "source": [
        "lis_1.append(10) #append adds the element at the last of the list\n",
        "lis_1.count(2) #returns the number of appearances of the given element\n",
        "lis_1.extend(lis_2) #adds elements of the second list in the first list\n",
        "lis_1.insert(5,50) #inserts the element 50 at index 5\n",
        "lis_1.pop(2) #pops out the element at index 2\n",
        "lis_1.remove(3) #remove element = 3\n",
        "lis_2.sort(reverse = True) #sort the list in an increasing order\n",
        "print(lis_2)\n",
        "print (len(lis_2)) #len() function returns the length of the list that is passed"
      ],
      "execution_count": 0,
      "outputs": [
        {
          "output_type": "stream",
          "text": [
            "[70, 50, 30, 12]\n",
            "4\n"
          ],
          "name": "stdout"
        }
      ]
    },
    {
      "cell_type": "code",
      "metadata": {
        "id": "ZkUXulzFQ-k5",
        "colab_type": "code",
        "outputId": "948bf60d-6935-4301-c4e5-2a0d91bb94d5",
        "colab": {
          "base_uri": "https://localhost:8080/",
          "height": 35
        }
      },
      "source": [
        "lis_2"
      ],
      "execution_count": 0,
      "outputs": [
        {
          "output_type": "execute_result",
          "data": {
            "text/plain": [
              "[12, 30, 50, 70]"
            ]
          },
          "metadata": {
            "tags": []
          },
          "execution_count": 28
        }
      ]
    },
    {
      "cell_type": "code",
      "metadata": {
        "id": "RiU_sDOZRRvs",
        "colab_type": "code",
        "outputId": "fd2db575-ed92-42d6-fba4-884ccd242942",
        "colab": {
          "base_uri": "https://localhost:8080/",
          "height": 35
        }
      },
      "source": [
        "print(lis_3)"
      ],
      "execution_count": 0,
      "outputs": [
        {
          "output_type": "stream",
          "text": [
            "None\n"
          ],
          "name": "stdout"
        }
      ]
    },
    {
      "cell_type": "code",
      "metadata": {
        "id": "mjaGuKQvcOpF",
        "colab_type": "code",
        "colab": {}
      },
      "source": [
        "lis_1.clear() #clears all the elements of the list\n",
        "del(lis_1) #deletes the whole list (no instance in the memory left)"
      ],
      "execution_count": 0,
      "outputs": []
    },
    {
      "cell_type": "markdown",
      "metadata": {
        "id": "ps_EwYFbcOpJ",
        "colab_type": "text"
      },
      "source": [
        "#### Tuples"
      ]
    },
    {
      "cell_type": "markdown",
      "metadata": {
        "id": "rSFB1cfvcOpK",
        "colab_type": "text"
      },
      "source": [
        "In tuples alse we can store elements of any datatype. Only difference is that we cannot manipulate the tuple or in \n",
        "other words tuples are immutable. Tuples are generally defined in ()."
      ]
    },
    {
      "cell_type": "code",
      "metadata": {
        "id": "4Gi9Kt3mTB8V",
        "colab_type": "code",
        "outputId": "25b507dc-5c53-40e1-ff98-67b2692aeddf",
        "colab": {
          "base_uri": "https://localhost:8080/",
          "height": 35
        }
      },
      "source": [
        "tup_1 = [1,2,3,4,'abc','pqr']\n",
        "type(tup_1)"
      ],
      "execution_count": 0,
      "outputs": [
        {
          "output_type": "execute_result",
          "data": {
            "text/plain": [
              "list"
            ]
          },
          "metadata": {
            "tags": []
          },
          "execution_count": 30
        }
      ]
    },
    {
      "cell_type": "code",
      "metadata": {
        "id": "B84z41IWcOpM",
        "colab_type": "code",
        "outputId": "1e2b2a76-47d6-4b03-b044-08899ca57317",
        "colab": {
          "base_uri": "https://localhost:8080/",
          "height": 67
        }
      },
      "source": [
        "tup_1 = (1,2,3,4,'abc','pqr')\n",
        "tup_2 = (60,70,80)\n",
        "#we can concatenate two tuples as it wont affect the actual tuples\n",
        "concat_ = tup_1 + tup_2\n",
        "print (tup_1)\n",
        "print (tup_2)\n",
        "print (concat_)"
      ],
      "execution_count": 0,
      "outputs": [
        {
          "output_type": "stream",
          "text": [
            "(1, 2, 3, 4, 'abc', 'pqr')\n",
            "(60, 70, 80)\n",
            "(1, 2, 3, 4, 'abc', 'pqr', 60, 70, 80)\n"
          ],
          "name": "stdout"
        }
      ]
    },
    {
      "cell_type": "markdown",
      "metadata": {
        "id": "tzUq9ePxcOpQ",
        "colab_type": "text"
      },
      "source": [
        "#### Dictionary:"
      ]
    },
    {
      "cell_type": "markdown",
      "metadata": {
        "id": "wJKZAc1-cOpS",
        "colab_type": "text"
      },
      "source": [
        "Dictionary store values in key and value format. In order to access values in dictionary we use key's instead of indices."
      ]
    },
    {
      "cell_type": "markdown",
      "metadata": {
        "id": "OCjYjAl3cOpV",
        "colab_type": "text"
      },
      "source": [
        "#### Operation on dictionary:"
      ]
    },
    {
      "cell_type": "code",
      "metadata": {
        "id": "PkyXkchRcOpW",
        "colab_type": "code",
        "outputId": "0faa49ff-e93b-4be6-992b-913855442f18",
        "colab": {
          "base_uri": "https://localhost:8080/",
          "height": 34
        }
      },
      "source": [
        "dict_ = {'john':12345,'michael':67890,'Abrahm':45678,'David':89234,'Smith':23789}\n",
        "print (dict_['john']) #accessing a value in dictionary we need to call by key"
      ],
      "execution_count": 0,
      "outputs": [
        {
          "output_type": "stream",
          "text": [
            "12345\n"
          ],
          "name": "stdout"
        }
      ]
    },
    {
      "cell_type": "code",
      "metadata": {
        "id": "Fo-1Y-C9p9ij",
        "colab_type": "code",
        "outputId": "25b307a1-4fb2-4574-d534-25a8bcb0d29e",
        "colab": {
          "base_uri": "https://localhost:8080/",
          "height": 102
        }
      },
      "source": [
        "dict_"
      ],
      "execution_count": 0,
      "outputs": [
        {
          "output_type": "execute_result",
          "data": {
            "text/plain": [
              "{'Abrahm': 45678,\n",
              " 'David': 89234,\n",
              " 'Smith': 23789,\n",
              " 'john': 12345,\n",
              " 'michael': 67890}"
            ]
          },
          "metadata": {
            "tags": []
          },
          "execution_count": 3
        }
      ]
    },
    {
      "cell_type": "code",
      "metadata": {
        "id": "O1HTWqL7cOpg",
        "colab_type": "code",
        "outputId": "7a5e5733-bbdc-4e38-dff2-d1d08397b443",
        "colab": {
          "base_uri": "https://localhost:8080/",
          "height": 101
        }
      },
      "source": [
        "dict_['Abrahm'] = 12345678 #to change value in dictionary, we directly give new value to that perticular key\n",
        "dict_"
      ],
      "execution_count": 0,
      "outputs": [
        {
          "output_type": "execute_result",
          "data": {
            "text/plain": [
              "{'Abrahm': 12345678,\n",
              " 'David': 89234,\n",
              " 'Smith': 23789,\n",
              " 'john': '12345',\n",
              " 'michael': 67890}"
            ]
          },
          "metadata": {
            "tags": []
          },
          "execution_count": 16
        }
      ]
    },
    {
      "cell_type": "code",
      "metadata": {
        "id": "20z30Z5mcOpm",
        "colab_type": "code",
        "outputId": "871b8ac1-cb76-46e7-e340-a3bf3c40a0af",
        "colab": {
          "base_uri": "https://localhost:8080/",
          "height": 34
        }
      },
      "source": [
        "dict_.keys() #to get all keys"
      ],
      "execution_count": 0,
      "outputs": [
        {
          "output_type": "execute_result",
          "data": {
            "text/plain": [
              "dict_keys(['john', 'michael', 'Abrahm', 'David', 'Smith'])"
            ]
          },
          "metadata": {
            "tags": []
          },
          "execution_count": 30
        }
      ]
    },
    {
      "cell_type": "code",
      "metadata": {
        "id": "C-jJNRVmcOpq",
        "colab_type": "code",
        "outputId": "20a20fcc-6ab1-45e6-e09c-ab23d9c5e5a4",
        "colab": {}
      },
      "source": [
        "dict_.values() #to get all values"
      ],
      "execution_count": 0,
      "outputs": [
        {
          "output_type": "execute_result",
          "data": {
            "text/plain": [
              "dict_values(['12345', 67890, 12345678, 89234, 23789])"
            ]
          },
          "metadata": {
            "tags": []
          },
          "execution_count": 58
        }
      ]
    },
    {
      "cell_type": "code",
      "metadata": {
        "id": "2N0KRzvNcOpv",
        "colab_type": "code",
        "outputId": "6feace3f-9d1c-4e42-9a55-b2845f3c050a",
        "colab": {
          "base_uri": "https://localhost:8080/",
          "height": 118
        }
      },
      "source": [
        "dict_['Warner'] = '00000' #to add new value to dictionary we specify the new key and the new value\n",
        "dict_"
      ],
      "execution_count": 0,
      "outputs": [
        {
          "output_type": "execute_result",
          "data": {
            "text/plain": [
              "{'Abrahm': 45678,\n",
              " 'David': 89234,\n",
              " 'Smith': 23789,\n",
              " 'Warner': '00000',\n",
              " 'john': 12345,\n",
              " 'michael': 67890}"
            ]
          },
          "metadata": {
            "tags": []
          },
          "execution_count": 18
        }
      ]
    },
    {
      "cell_type": "code",
      "metadata": {
        "id": "lrXLHLLxcOp0",
        "colab_type": "code",
        "outputId": "6ca31b18-0cd7-42ec-ecab-592c97dde95b",
        "colab": {}
      },
      "source": [
        "dict_.pop('john') #pops out the value of the key that has been passed"
      ],
      "execution_count": 0,
      "outputs": [
        {
          "output_type": "execute_result",
          "data": {
            "text/plain": [
              "'12345'"
            ]
          },
          "metadata": {
            "tags": []
          },
          "execution_count": 62
        }
      ]
    },
    {
      "cell_type": "code",
      "metadata": {
        "id": "K8B7BWGCcOp4",
        "colab_type": "code",
        "outputId": "aedb079c-868d-4abc-e9d0-2c608953eff5",
        "colab": {}
      },
      "source": [
        "dict_.clear() # clears all the element of the dictionary but the instance of the dictionary still remains in the memory\n",
        "dict_"
      ],
      "execution_count": 0,
      "outputs": [
        {
          "output_type": "execute_result",
          "data": {
            "text/plain": [
              "{}"
            ]
          },
          "metadata": {
            "tags": []
          },
          "execution_count": 64
        }
      ]
    },
    {
      "cell_type": "code",
      "metadata": {
        "id": "bKW4AuXrcOp8",
        "colab_type": "code",
        "colab": {}
      },
      "source": [
        "del(dict_) #deletes the dictionary, i.e no values remain inside the dictionary"
      ],
      "execution_count": 0,
      "outputs": []
    },
    {
      "cell_type": "markdown",
      "metadata": {
        "id": "WtyIIosRcOp_",
        "colab_type": "text"
      },
      "source": [
        "#### Converting list to tuple and vice-versa"
      ]
    },
    {
      "cell_type": "code",
      "metadata": {
        "id": "2l9a-0V7cOqA",
        "colab_type": "code",
        "outputId": "02ad354f-0fed-4391-99f3-f664b1cc5d21",
        "colab": {
          "base_uri": "https://localhost:8080/",
          "height": 34
        }
      },
      "source": [
        "x = (1,2,3,4) #tuple\n",
        "# 'x' is a tuple ,in order to convert tuple to list we use\n",
        "y = list(x)\n",
        "y\n",
        "#Now 'y' is a list, similarly we use tuple() to convert a list to tuple"
      ],
      "execution_count": 0,
      "outputs": [
        {
          "output_type": "execute_result",
          "data": {
            "text/plain": [
              "[1, 2, 3, 4]"
            ]
          },
          "metadata": {
            "tags": []
          },
          "execution_count": 19
        }
      ]
    },
    {
      "cell_type": "markdown",
      "metadata": {
        "id": "k4FncmLzcOqF",
        "colab_type": "text"
      },
      "source": [
        "###### Practise Questions:"
      ]
    },
    {
      "cell_type": "code",
      "metadata": {
        "id": "gqDwCyoGcOqH",
        "colab_type": "code",
        "colab": {}
      },
      "source": [
        "#perform the following operations on the given list.\n",
        "x = [1,2,3,4,5,6]\n",
        "# update the element at index 0 by 150\n",
        "# add an element 50 between 2 and 3\n",
        "# add an element 100 at the end\n",
        "# remove element 3 by passing index as parameter\n",
        "# copy the elements of z = [10,20] in x"
      ],
      "execution_count": 0,
      "outputs": []
    },
    {
      "cell_type": "code",
      "metadata": {
        "id": "eEqC9XjMcOqK",
        "colab_type": "code",
        "colab": {}
      },
      "source": [
        "# Perform the following operations on the dictionary:\n",
        "## create a dictionary containing 5 names and their ages\n",
        "## update the age of one of the person\n",
        "## insert one more name with age 30\n",
        "## clear all the elements of this dict"
      ],
      "execution_count": 0,
      "outputs": []
    }
  ]
}